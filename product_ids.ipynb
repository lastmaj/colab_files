{
  "nbformat": 4,
  "nbformat_minor": 0,
  "metadata": {
    "colab": {
      "name": "Untitled3.ipynb",
      "provenance": [],
      "authorship_tag": "ABX9TyPHzjeMtd4cYnseH8MlmEaS",
      "include_colab_link": true
    },
    "kernelspec": {
      "name": "python3",
      "display_name": "Python 3"
    },
    "language_info": {
      "name": "python"
    }
  },
  "cells": [
    {
      "cell_type": "markdown",
      "metadata": {
        "id": "view-in-github",
        "colab_type": "text"
      },
      "source": [
        "<a href=\"https://colab.research.google.com/github/lastmaj/colab_files/blob/main/product_ids.ipynb\" target=\"_parent\"><img src=\"https://colab.research.google.com/assets/colab-badge.svg\" alt=\"Open In Colab\"/></a>"
      ]
    },
    {
      "cell_type": "code",
      "metadata": {
        "colab": {
          "base_uri": "https://localhost:8080/"
        },
        "id": "9DnuoYmJcc_5",
        "outputId": "4f96c417-113d-4315-fda3-8eed363c363d"
      },
      "source": [
        "import time\n",
        "import random\n",
        "!pip install pycryptodome\n",
        "!pip install ff3"
      ],
      "execution_count": 8,
      "outputs": [
        {
          "output_type": "stream",
          "text": [
            "Collecting pycryptodome\n",
            "\u001b[?25l  Downloading https://files.pythonhosted.org/packages/ad/16/9627ab0493894a11c68e46000dbcc82f578c8ff06bc2980dcd016aea9bd3/pycryptodome-3.10.1-cp35-abi3-manylinux2010_x86_64.whl (1.9MB)\n",
            "\u001b[K     |████████████████████████████████| 1.9MB 8.0MB/s \n",
            "\u001b[?25hInstalling collected packages: pycryptodome\n",
            "Successfully installed pycryptodome-3.10.1\n",
            "Collecting ff3\n",
            "  Downloading https://files.pythonhosted.org/packages/b6/f5/ae0f36e784f5c67ea9ab4b477e8c60ed51461709dd4b26cf271e458a99ae/ff3-0.9.0-py3-none-any.whl\n",
            "Installing collected packages: ff3\n",
            "Successfully installed ff3-0.9.0\n"
          ],
          "name": "stdout"
        }
      ]
    },
    {
      "cell_type": "code",
      "metadata": {
        "id": "k3sPFu5pcrsZ"
      },
      "source": [
        "import math\n",
        "\n",
        "def timestamp():\n",
        "  t = int(time.time())\n",
        "  return 1625149695\n",
        "\n",
        "def pad():\n",
        "  return random.randint(10,99)"
      ],
      "execution_count": 272,
      "outputs": []
    },
    {
      "cell_type": "code",
      "metadata": {
        "colab": {
          "base_uri": "https://localhost:8080/"
        },
        "id": "UsXAHUVffVBA",
        "outputId": "45a42251-eae7-4462-99b4-53e1d0a8b657"
      },
      "source": [
        "def raw():\n",
        "  return timestamp() * 100 + pad()"
      ],
      "execution_count": 289,
      "outputs": [
        {
          "output_type": "execute_result",
          "data": {
            "text/plain": [
              "162514969540"
            ]
          },
          "metadata": {
            "tags": []
          },
          "execution_count": 289
        }
      ]
    },
    {
      "cell_type": "code",
      "metadata": {
        "colab": {
          "base_uri": "https://localhost:8080/"
        },
        "id": "33wPQKi60Ldh",
        "outputId": "5cd16812-d229-4329-b911-ec9edfb80b06"
      },
      "source": [
        "from ff3 import FF3Cipher\n",
        "\n",
        "def ready():\n",
        "  key = \"e759f8449fdbad9165dfcec47e5f516f\"\n",
        "  tweak = \"D8E7920AFA330A73\"\n",
        "\n",
        "  c = FF3Cipher(key, tweak)\n",
        "  r = str(raw())\n",
        "  cipher = (c.encrypt(r))\n",
        "  print(f\"{r} -> {cipher}\")\n",
        "\n",
        "ready()\n",
        "ready()\n",
        "ready()\n",
        "ready()\n",
        "ready()\n",
        "ready()\n",
        "ready()\n"
      ],
      "execution_count": 296,
      "outputs": [
        {
          "output_type": "stream",
          "text": [
            "162514969582 -> 349153830109\n",
            "162514969589 -> 451582900263\n",
            "162514969590 -> 637379881318\n",
            "162514969558 -> 816757237544\n",
            "162514969591 -> 079292779491\n",
            "162514969542 -> 630330850572\n",
            "162514969546 -> 160720677097\n"
          ],
          "name": "stdout"
        }
      ]
    }
  ]
}